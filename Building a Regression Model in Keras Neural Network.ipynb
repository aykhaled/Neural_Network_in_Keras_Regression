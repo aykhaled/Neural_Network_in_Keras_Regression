{
 "cells": [
  {
   "cell_type": "markdown",
   "metadata": {},
   "source": [
    "# Building a Regression Model in Keras Neural Network\n",
    "\n",
    "### Course Project - Introduction to Deep Learning & Neural Networks with Keras\n",
    "**Ahmed Yahya Khaled** \\\n",
    "*July 11, 2020*"
   ]
  },
  {
   "cell_type": "markdown",
   "metadata": {},
   "source": [
    "### Introduction\n",
    "\n",
    "Here, We'll build a regression model using the deep learning Keras library, and then We'll experiment with increasing the number of training epochs and changing number of hidden layers and we'll see how changing these parameters impacts the performance of the model."
   ]
  },
  {
   "cell_type": "markdown",
   "metadata": {},
   "source": [
    "### Contents :"
   ]
  },
  {
   "cell_type": "markdown",
   "metadata": {},
   "source": [
    "#### Pre-work\n",
    "\n",
    "1. Import the Dataset\n",
    "2. Explore the Dataset \n",
    "3. Data Preprocessing"
   ]
  },
  {
   "cell_type": "markdown",
   "metadata": {},
   "source": [
    "#### Submission\n",
    "\n",
    "**A.** Build a baseline model \\\n",
    "**B.** Normalize the Data \\\n",
    "**C.** Increase the number of epochs \\\n",
    "**D.** Increase the number of hidden layers"
   ]
  },
  {
   "cell_type": "markdown",
   "metadata": {},
   "source": [
    "#### ---------------------------------  Pre-work -------------------------------------------------------------------------------------------------------------------"
   ]
  },
  {
   "cell_type": "markdown",
   "metadata": {},
   "source": [
    "### Import the Dataset"
   ]
  },
  {
   "cell_type": "code",
   "execution_count": 62,
   "metadata": {},
   "outputs": [],
   "source": [
    "import numpy as np\n",
    "import pandas as pd"
   ]
  },
  {
   "cell_type": "code",
   "execution_count": 63,
   "metadata": {},
   "outputs": [],
   "source": [
    "concrete_data = pd.read_csv('https://cocl.us/concrete_data')"
   ]
  },
  {
   "cell_type": "markdown",
   "metadata": {},
   "source": [
    "#### The dataset is about the compressive strength of different samples of concrete based on the volumes of the different ingredients that were used to make them"
   ]
  },
  {
   "cell_type": "markdown",
   "metadata": {},
   "source": [
    "### Explore the Dataset"
   ]
  },
  {
   "cell_type": "code",
   "execution_count": 64,
   "metadata": {},
   "outputs": [
    {
     "data": {
      "text/html": [
       "<div>\n",
       "<style scoped>\n",
       "    .dataframe tbody tr th:only-of-type {\n",
       "        vertical-align: middle;\n",
       "    }\n",
       "\n",
       "    .dataframe tbody tr th {\n",
       "        vertical-align: top;\n",
       "    }\n",
       "\n",
       "    .dataframe thead th {\n",
       "        text-align: right;\n",
       "    }\n",
       "</style>\n",
       "<table border=\"1\" class=\"dataframe\">\n",
       "  <thead>\n",
       "    <tr style=\"text-align: right;\">\n",
       "      <th></th>\n",
       "      <th>Cement</th>\n",
       "      <th>Blast Furnace Slag</th>\n",
       "      <th>Fly Ash</th>\n",
       "      <th>Water</th>\n",
       "      <th>Superplasticizer</th>\n",
       "      <th>Coarse Aggregate</th>\n",
       "      <th>Fine Aggregate</th>\n",
       "      <th>Age</th>\n",
       "      <th>Strength</th>\n",
       "    </tr>\n",
       "  </thead>\n",
       "  <tbody>\n",
       "    <tr>\n",
       "      <th>0</th>\n",
       "      <td>540.0</td>\n",
       "      <td>0.0</td>\n",
       "      <td>0.0</td>\n",
       "      <td>162.0</td>\n",
       "      <td>2.5</td>\n",
       "      <td>1040.0</td>\n",
       "      <td>676.0</td>\n",
       "      <td>28</td>\n",
       "      <td>79.99</td>\n",
       "    </tr>\n",
       "    <tr>\n",
       "      <th>1</th>\n",
       "      <td>540.0</td>\n",
       "      <td>0.0</td>\n",
       "      <td>0.0</td>\n",
       "      <td>162.0</td>\n",
       "      <td>2.5</td>\n",
       "      <td>1055.0</td>\n",
       "      <td>676.0</td>\n",
       "      <td>28</td>\n",
       "      <td>61.89</td>\n",
       "    </tr>\n",
       "    <tr>\n",
       "      <th>2</th>\n",
       "      <td>332.5</td>\n",
       "      <td>142.5</td>\n",
       "      <td>0.0</td>\n",
       "      <td>228.0</td>\n",
       "      <td>0.0</td>\n",
       "      <td>932.0</td>\n",
       "      <td>594.0</td>\n",
       "      <td>270</td>\n",
       "      <td>40.27</td>\n",
       "    </tr>\n",
       "    <tr>\n",
       "      <th>3</th>\n",
       "      <td>332.5</td>\n",
       "      <td>142.5</td>\n",
       "      <td>0.0</td>\n",
       "      <td>228.0</td>\n",
       "      <td>0.0</td>\n",
       "      <td>932.0</td>\n",
       "      <td>594.0</td>\n",
       "      <td>365</td>\n",
       "      <td>41.05</td>\n",
       "    </tr>\n",
       "    <tr>\n",
       "      <th>4</th>\n",
       "      <td>198.6</td>\n",
       "      <td>132.4</td>\n",
       "      <td>0.0</td>\n",
       "      <td>192.0</td>\n",
       "      <td>0.0</td>\n",
       "      <td>978.4</td>\n",
       "      <td>825.5</td>\n",
       "      <td>360</td>\n",
       "      <td>44.30</td>\n",
       "    </tr>\n",
       "  </tbody>\n",
       "</table>\n",
       "</div>"
      ],
      "text/plain": [
       "   Cement  Blast Furnace Slag  Fly Ash  Water  Superplasticizer  \\\n",
       "0   540.0                 0.0      0.0  162.0               2.5   \n",
       "1   540.0                 0.0      0.0  162.0               2.5   \n",
       "2   332.5               142.5      0.0  228.0               0.0   \n",
       "3   332.5               142.5      0.0  228.0               0.0   \n",
       "4   198.6               132.4      0.0  192.0               0.0   \n",
       "\n",
       "   Coarse Aggregate  Fine Aggregate  Age  Strength  \n",
       "0            1040.0           676.0   28     79.99  \n",
       "1            1055.0           676.0   28     61.89  \n",
       "2             932.0           594.0  270     40.27  \n",
       "3             932.0           594.0  365     41.05  \n",
       "4             978.4           825.5  360     44.30  "
      ]
     },
     "execution_count": 64,
     "metadata": {},
     "output_type": "execute_result"
    }
   ],
   "source": [
    "concrete_data.head()"
   ]
  },
  {
   "cell_type": "code",
   "execution_count": 65,
   "metadata": {},
   "outputs": [
    {
     "data": {
      "text/plain": [
       "(1030, 9)"
      ]
     },
     "execution_count": 65,
     "metadata": {},
     "output_type": "execute_result"
    }
   ],
   "source": [
    "concrete_data.shape"
   ]
  },
  {
   "cell_type": "code",
   "execution_count": 66,
   "metadata": {},
   "outputs": [
    {
     "data": {
      "text/html": [
       "<div>\n",
       "<style scoped>\n",
       "    .dataframe tbody tr th:only-of-type {\n",
       "        vertical-align: middle;\n",
       "    }\n",
       "\n",
       "    .dataframe tbody tr th {\n",
       "        vertical-align: top;\n",
       "    }\n",
       "\n",
       "    .dataframe thead th {\n",
       "        text-align: right;\n",
       "    }\n",
       "</style>\n",
       "<table border=\"1\" class=\"dataframe\">\n",
       "  <thead>\n",
       "    <tr style=\"text-align: right;\">\n",
       "      <th></th>\n",
       "      <th>Cement</th>\n",
       "      <th>Blast Furnace Slag</th>\n",
       "      <th>Fly Ash</th>\n",
       "      <th>Water</th>\n",
       "      <th>Superplasticizer</th>\n",
       "      <th>Coarse Aggregate</th>\n",
       "      <th>Fine Aggregate</th>\n",
       "      <th>Age</th>\n",
       "      <th>Strength</th>\n",
       "    </tr>\n",
       "  </thead>\n",
       "  <tbody>\n",
       "    <tr>\n",
       "      <th>count</th>\n",
       "      <td>1030.000000</td>\n",
       "      <td>1030.000000</td>\n",
       "      <td>1030.000000</td>\n",
       "      <td>1030.000000</td>\n",
       "      <td>1030.000000</td>\n",
       "      <td>1030.000000</td>\n",
       "      <td>1030.000000</td>\n",
       "      <td>1030.000000</td>\n",
       "      <td>1030.000000</td>\n",
       "    </tr>\n",
       "    <tr>\n",
       "      <th>mean</th>\n",
       "      <td>281.167864</td>\n",
       "      <td>73.895825</td>\n",
       "      <td>54.188350</td>\n",
       "      <td>181.567282</td>\n",
       "      <td>6.204660</td>\n",
       "      <td>972.918932</td>\n",
       "      <td>773.580485</td>\n",
       "      <td>45.662136</td>\n",
       "      <td>35.817961</td>\n",
       "    </tr>\n",
       "    <tr>\n",
       "      <th>std</th>\n",
       "      <td>104.506364</td>\n",
       "      <td>86.279342</td>\n",
       "      <td>63.997004</td>\n",
       "      <td>21.354219</td>\n",
       "      <td>5.973841</td>\n",
       "      <td>77.753954</td>\n",
       "      <td>80.175980</td>\n",
       "      <td>63.169912</td>\n",
       "      <td>16.705742</td>\n",
       "    </tr>\n",
       "    <tr>\n",
       "      <th>min</th>\n",
       "      <td>102.000000</td>\n",
       "      <td>0.000000</td>\n",
       "      <td>0.000000</td>\n",
       "      <td>121.800000</td>\n",
       "      <td>0.000000</td>\n",
       "      <td>801.000000</td>\n",
       "      <td>594.000000</td>\n",
       "      <td>1.000000</td>\n",
       "      <td>2.330000</td>\n",
       "    </tr>\n",
       "    <tr>\n",
       "      <th>25%</th>\n",
       "      <td>192.375000</td>\n",
       "      <td>0.000000</td>\n",
       "      <td>0.000000</td>\n",
       "      <td>164.900000</td>\n",
       "      <td>0.000000</td>\n",
       "      <td>932.000000</td>\n",
       "      <td>730.950000</td>\n",
       "      <td>7.000000</td>\n",
       "      <td>23.710000</td>\n",
       "    </tr>\n",
       "    <tr>\n",
       "      <th>50%</th>\n",
       "      <td>272.900000</td>\n",
       "      <td>22.000000</td>\n",
       "      <td>0.000000</td>\n",
       "      <td>185.000000</td>\n",
       "      <td>6.400000</td>\n",
       "      <td>968.000000</td>\n",
       "      <td>779.500000</td>\n",
       "      <td>28.000000</td>\n",
       "      <td>34.445000</td>\n",
       "    </tr>\n",
       "    <tr>\n",
       "      <th>75%</th>\n",
       "      <td>350.000000</td>\n",
       "      <td>142.950000</td>\n",
       "      <td>118.300000</td>\n",
       "      <td>192.000000</td>\n",
       "      <td>10.200000</td>\n",
       "      <td>1029.400000</td>\n",
       "      <td>824.000000</td>\n",
       "      <td>56.000000</td>\n",
       "      <td>46.135000</td>\n",
       "    </tr>\n",
       "    <tr>\n",
       "      <th>max</th>\n",
       "      <td>540.000000</td>\n",
       "      <td>359.400000</td>\n",
       "      <td>200.100000</td>\n",
       "      <td>247.000000</td>\n",
       "      <td>32.200000</td>\n",
       "      <td>1145.000000</td>\n",
       "      <td>992.600000</td>\n",
       "      <td>365.000000</td>\n",
       "      <td>82.600000</td>\n",
       "    </tr>\n",
       "  </tbody>\n",
       "</table>\n",
       "</div>"
      ],
      "text/plain": [
       "            Cement  Blast Furnace Slag      Fly Ash        Water  \\\n",
       "count  1030.000000         1030.000000  1030.000000  1030.000000   \n",
       "mean    281.167864           73.895825    54.188350   181.567282   \n",
       "std     104.506364           86.279342    63.997004    21.354219   \n",
       "min     102.000000            0.000000     0.000000   121.800000   \n",
       "25%     192.375000            0.000000     0.000000   164.900000   \n",
       "50%     272.900000           22.000000     0.000000   185.000000   \n",
       "75%     350.000000          142.950000   118.300000   192.000000   \n",
       "max     540.000000          359.400000   200.100000   247.000000   \n",
       "\n",
       "       Superplasticizer  Coarse Aggregate  Fine Aggregate          Age  \\\n",
       "count       1030.000000       1030.000000     1030.000000  1030.000000   \n",
       "mean           6.204660        972.918932      773.580485    45.662136   \n",
       "std            5.973841         77.753954       80.175980    63.169912   \n",
       "min            0.000000        801.000000      594.000000     1.000000   \n",
       "25%            0.000000        932.000000      730.950000     7.000000   \n",
       "50%            6.400000        968.000000      779.500000    28.000000   \n",
       "75%           10.200000       1029.400000      824.000000    56.000000   \n",
       "max           32.200000       1145.000000      992.600000   365.000000   \n",
       "\n",
       "          Strength  \n",
       "count  1030.000000  \n",
       "mean     35.817961  \n",
       "std      16.705742  \n",
       "min       2.330000  \n",
       "25%      23.710000  \n",
       "50%      34.445000  \n",
       "75%      46.135000  \n",
       "max      82.600000  "
      ]
     },
     "execution_count": 66,
     "metadata": {},
     "output_type": "execute_result"
    }
   ],
   "source": [
    "concrete_data.describe()"
   ]
  },
  {
   "cell_type": "code",
   "execution_count": 67,
   "metadata": {},
   "outputs": [
    {
     "data": {
      "text/html": [
       "<div>\n",
       "<style scoped>\n",
       "    .dataframe tbody tr th:only-of-type {\n",
       "        vertical-align: middle;\n",
       "    }\n",
       "\n",
       "    .dataframe tbody tr th {\n",
       "        vertical-align: top;\n",
       "    }\n",
       "\n",
       "    .dataframe thead th {\n",
       "        text-align: right;\n",
       "    }\n",
       "</style>\n",
       "<table border=\"1\" class=\"dataframe\">\n",
       "  <thead>\n",
       "    <tr style=\"text-align: right;\">\n",
       "      <th></th>\n",
       "      <th>Cement</th>\n",
       "      <th>Blast Furnace Slag</th>\n",
       "      <th>Fly Ash</th>\n",
       "      <th>Water</th>\n",
       "      <th>Superplasticizer</th>\n",
       "      <th>Coarse Aggregate</th>\n",
       "      <th>Fine Aggregate</th>\n",
       "      <th>Age</th>\n",
       "      <th>Strength</th>\n",
       "    </tr>\n",
       "  </thead>\n",
       "  <tbody>\n",
       "    <tr>\n",
       "      <th>Cement</th>\n",
       "      <td>1.000000</td>\n",
       "      <td>-0.275216</td>\n",
       "      <td>-0.397467</td>\n",
       "      <td>-0.081587</td>\n",
       "      <td>0.092386</td>\n",
       "      <td>-0.109349</td>\n",
       "      <td>-0.222718</td>\n",
       "      <td>0.081946</td>\n",
       "      <td>0.497832</td>\n",
       "    </tr>\n",
       "    <tr>\n",
       "      <th>Blast Furnace Slag</th>\n",
       "      <td>-0.275216</td>\n",
       "      <td>1.000000</td>\n",
       "      <td>-0.323580</td>\n",
       "      <td>0.107252</td>\n",
       "      <td>0.043270</td>\n",
       "      <td>-0.283999</td>\n",
       "      <td>-0.281603</td>\n",
       "      <td>-0.044246</td>\n",
       "      <td>0.134829</td>\n",
       "    </tr>\n",
       "    <tr>\n",
       "      <th>Fly Ash</th>\n",
       "      <td>-0.397467</td>\n",
       "      <td>-0.323580</td>\n",
       "      <td>1.000000</td>\n",
       "      <td>-0.256984</td>\n",
       "      <td>0.377503</td>\n",
       "      <td>-0.009961</td>\n",
       "      <td>0.079108</td>\n",
       "      <td>-0.154371</td>\n",
       "      <td>-0.105755</td>\n",
       "    </tr>\n",
       "    <tr>\n",
       "      <th>Water</th>\n",
       "      <td>-0.081587</td>\n",
       "      <td>0.107252</td>\n",
       "      <td>-0.256984</td>\n",
       "      <td>1.000000</td>\n",
       "      <td>-0.657533</td>\n",
       "      <td>-0.182294</td>\n",
       "      <td>-0.450661</td>\n",
       "      <td>0.277618</td>\n",
       "      <td>-0.289633</td>\n",
       "    </tr>\n",
       "    <tr>\n",
       "      <th>Superplasticizer</th>\n",
       "      <td>0.092386</td>\n",
       "      <td>0.043270</td>\n",
       "      <td>0.377503</td>\n",
       "      <td>-0.657533</td>\n",
       "      <td>1.000000</td>\n",
       "      <td>-0.265999</td>\n",
       "      <td>0.222691</td>\n",
       "      <td>-0.192700</td>\n",
       "      <td>0.366079</td>\n",
       "    </tr>\n",
       "    <tr>\n",
       "      <th>Coarse Aggregate</th>\n",
       "      <td>-0.109349</td>\n",
       "      <td>-0.283999</td>\n",
       "      <td>-0.009961</td>\n",
       "      <td>-0.182294</td>\n",
       "      <td>-0.265999</td>\n",
       "      <td>1.000000</td>\n",
       "      <td>-0.178481</td>\n",
       "      <td>-0.003016</td>\n",
       "      <td>-0.164935</td>\n",
       "    </tr>\n",
       "    <tr>\n",
       "      <th>Fine Aggregate</th>\n",
       "      <td>-0.222718</td>\n",
       "      <td>-0.281603</td>\n",
       "      <td>0.079108</td>\n",
       "      <td>-0.450661</td>\n",
       "      <td>0.222691</td>\n",
       "      <td>-0.178481</td>\n",
       "      <td>1.000000</td>\n",
       "      <td>-0.156095</td>\n",
       "      <td>-0.167241</td>\n",
       "    </tr>\n",
       "    <tr>\n",
       "      <th>Age</th>\n",
       "      <td>0.081946</td>\n",
       "      <td>-0.044246</td>\n",
       "      <td>-0.154371</td>\n",
       "      <td>0.277618</td>\n",
       "      <td>-0.192700</td>\n",
       "      <td>-0.003016</td>\n",
       "      <td>-0.156095</td>\n",
       "      <td>1.000000</td>\n",
       "      <td>0.328873</td>\n",
       "    </tr>\n",
       "    <tr>\n",
       "      <th>Strength</th>\n",
       "      <td>0.497832</td>\n",
       "      <td>0.134829</td>\n",
       "      <td>-0.105755</td>\n",
       "      <td>-0.289633</td>\n",
       "      <td>0.366079</td>\n",
       "      <td>-0.164935</td>\n",
       "      <td>-0.167241</td>\n",
       "      <td>0.328873</td>\n",
       "      <td>1.000000</td>\n",
       "    </tr>\n",
       "  </tbody>\n",
       "</table>\n",
       "</div>"
      ],
      "text/plain": [
       "                      Cement  Blast Furnace Slag   Fly Ash     Water  \\\n",
       "Cement              1.000000           -0.275216 -0.397467 -0.081587   \n",
       "Blast Furnace Slag -0.275216            1.000000 -0.323580  0.107252   \n",
       "Fly Ash            -0.397467           -0.323580  1.000000 -0.256984   \n",
       "Water              -0.081587            0.107252 -0.256984  1.000000   \n",
       "Superplasticizer    0.092386            0.043270  0.377503 -0.657533   \n",
       "Coarse Aggregate   -0.109349           -0.283999 -0.009961 -0.182294   \n",
       "Fine Aggregate     -0.222718           -0.281603  0.079108 -0.450661   \n",
       "Age                 0.081946           -0.044246 -0.154371  0.277618   \n",
       "Strength            0.497832            0.134829 -0.105755 -0.289633   \n",
       "\n",
       "                    Superplasticizer  Coarse Aggregate  Fine Aggregate  \\\n",
       "Cement                      0.092386         -0.109349       -0.222718   \n",
       "Blast Furnace Slag          0.043270         -0.283999       -0.281603   \n",
       "Fly Ash                     0.377503         -0.009961        0.079108   \n",
       "Water                      -0.657533         -0.182294       -0.450661   \n",
       "Superplasticizer            1.000000         -0.265999        0.222691   \n",
       "Coarse Aggregate           -0.265999          1.000000       -0.178481   \n",
       "Fine Aggregate              0.222691         -0.178481        1.000000   \n",
       "Age                        -0.192700         -0.003016       -0.156095   \n",
       "Strength                    0.366079         -0.164935       -0.167241   \n",
       "\n",
       "                         Age  Strength  \n",
       "Cement              0.081946  0.497832  \n",
       "Blast Furnace Slag -0.044246  0.134829  \n",
       "Fly Ash            -0.154371 -0.105755  \n",
       "Water               0.277618 -0.289633  \n",
       "Superplasticizer   -0.192700  0.366079  \n",
       "Coarse Aggregate   -0.003016 -0.164935  \n",
       "Fine Aggregate     -0.156095 -0.167241  \n",
       "Age                 1.000000  0.328873  \n",
       "Strength            0.328873  1.000000  "
      ]
     },
     "execution_count": 67,
     "metadata": {},
     "output_type": "execute_result"
    }
   ],
   "source": [
    "concrete_data.corr()"
   ]
  },
  {
   "cell_type": "code",
   "execution_count": 68,
   "metadata": {},
   "outputs": [
    {
     "data": {
      "text/plain": [
       "Cement                0\n",
       "Blast Furnace Slag    0\n",
       "Fly Ash               0\n",
       "Water                 0\n",
       "Superplasticizer      0\n",
       "Coarse Aggregate      0\n",
       "Fine Aggregate        0\n",
       "Age                   0\n",
       "Strength              0\n",
       "dtype: int64"
      ]
     },
     "execution_count": 68,
     "metadata": {},
     "output_type": "execute_result"
    }
   ],
   "source": [
    "concrete_data.isnull().sum()"
   ]
  },
  {
   "cell_type": "markdown",
   "metadata": {},
   "source": [
    "### Data Preprocessing"
   ]
  },
  {
   "cell_type": "markdown",
   "metadata": {},
   "source": [
    "#### Split the Dataset into *predictors* and *target*"
   ]
  },
  {
   "cell_type": "code",
   "execution_count": 69,
   "metadata": {},
   "outputs": [],
   "source": [
    "col_names = concrete_data.columns\n",
    "X = concrete_data[col_names[col_names != 'Strength']]\n",
    "y = concrete_data['Strength']"
   ]
  },
  {
   "cell_type": "code",
   "execution_count": 70,
   "metadata": {},
   "outputs": [
    {
     "data": {
      "text/html": [
       "<div>\n",
       "<style scoped>\n",
       "    .dataframe tbody tr th:only-of-type {\n",
       "        vertical-align: middle;\n",
       "    }\n",
       "\n",
       "    .dataframe tbody tr th {\n",
       "        vertical-align: top;\n",
       "    }\n",
       "\n",
       "    .dataframe thead th {\n",
       "        text-align: right;\n",
       "    }\n",
       "</style>\n",
       "<table border=\"1\" class=\"dataframe\">\n",
       "  <thead>\n",
       "    <tr style=\"text-align: right;\">\n",
       "      <th></th>\n",
       "      <th>Cement</th>\n",
       "      <th>Blast Furnace Slag</th>\n",
       "      <th>Fly Ash</th>\n",
       "      <th>Water</th>\n",
       "      <th>Superplasticizer</th>\n",
       "      <th>Coarse Aggregate</th>\n",
       "      <th>Fine Aggregate</th>\n",
       "      <th>Age</th>\n",
       "    </tr>\n",
       "  </thead>\n",
       "  <tbody>\n",
       "    <tr>\n",
       "      <th>0</th>\n",
       "      <td>540.0</td>\n",
       "      <td>0.0</td>\n",
       "      <td>0.0</td>\n",
       "      <td>162.0</td>\n",
       "      <td>2.5</td>\n",
       "      <td>1040.0</td>\n",
       "      <td>676.0</td>\n",
       "      <td>28</td>\n",
       "    </tr>\n",
       "    <tr>\n",
       "      <th>1</th>\n",
       "      <td>540.0</td>\n",
       "      <td>0.0</td>\n",
       "      <td>0.0</td>\n",
       "      <td>162.0</td>\n",
       "      <td>2.5</td>\n",
       "      <td>1055.0</td>\n",
       "      <td>676.0</td>\n",
       "      <td>28</td>\n",
       "    </tr>\n",
       "    <tr>\n",
       "      <th>2</th>\n",
       "      <td>332.5</td>\n",
       "      <td>142.5</td>\n",
       "      <td>0.0</td>\n",
       "      <td>228.0</td>\n",
       "      <td>0.0</td>\n",
       "      <td>932.0</td>\n",
       "      <td>594.0</td>\n",
       "      <td>270</td>\n",
       "    </tr>\n",
       "    <tr>\n",
       "      <th>3</th>\n",
       "      <td>332.5</td>\n",
       "      <td>142.5</td>\n",
       "      <td>0.0</td>\n",
       "      <td>228.0</td>\n",
       "      <td>0.0</td>\n",
       "      <td>932.0</td>\n",
       "      <td>594.0</td>\n",
       "      <td>365</td>\n",
       "    </tr>\n",
       "    <tr>\n",
       "      <th>4</th>\n",
       "      <td>198.6</td>\n",
       "      <td>132.4</td>\n",
       "      <td>0.0</td>\n",
       "      <td>192.0</td>\n",
       "      <td>0.0</td>\n",
       "      <td>978.4</td>\n",
       "      <td>825.5</td>\n",
       "      <td>360</td>\n",
       "    </tr>\n",
       "  </tbody>\n",
       "</table>\n",
       "</div>"
      ],
      "text/plain": [
       "   Cement  Blast Furnace Slag  Fly Ash  Water  Superplasticizer  \\\n",
       "0   540.0                 0.0      0.0  162.0               2.5   \n",
       "1   540.0                 0.0      0.0  162.0               2.5   \n",
       "2   332.5               142.5      0.0  228.0               0.0   \n",
       "3   332.5               142.5      0.0  228.0               0.0   \n",
       "4   198.6               132.4      0.0  192.0               0.0   \n",
       "\n",
       "   Coarse Aggregate  Fine Aggregate  Age  \n",
       "0            1040.0           676.0   28  \n",
       "1            1055.0           676.0   28  \n",
       "2             932.0           594.0  270  \n",
       "3             932.0           594.0  365  \n",
       "4             978.4           825.5  360  "
      ]
     },
     "execution_count": 70,
     "metadata": {},
     "output_type": "execute_result"
    }
   ],
   "source": [
    "X.head()"
   ]
  },
  {
   "cell_type": "code",
   "execution_count": 71,
   "metadata": {},
   "outputs": [
    {
     "data": {
      "text/plain": [
       "0    79.99\n",
       "1    61.89\n",
       "2    40.27\n",
       "3    41.05\n",
       "4    44.30\n",
       "Name: Strength, dtype: float64"
      ]
     },
     "execution_count": 71,
     "metadata": {},
     "output_type": "execute_result"
    }
   ],
   "source": [
    "y.head()"
   ]
  },
  {
   "cell_type": "markdown",
   "metadata": {},
   "source": [
    "#### Normalize the data"
   ]
  },
  {
   "cell_type": "code",
   "execution_count": 72,
   "metadata": {},
   "outputs": [
    {
     "data": {
      "text/html": [
       "<div>\n",
       "<style scoped>\n",
       "    .dataframe tbody tr th:only-of-type {\n",
       "        vertical-align: middle;\n",
       "    }\n",
       "\n",
       "    .dataframe tbody tr th {\n",
       "        vertical-align: top;\n",
       "    }\n",
       "\n",
       "    .dataframe thead th {\n",
       "        text-align: right;\n",
       "    }\n",
       "</style>\n",
       "<table border=\"1\" class=\"dataframe\">\n",
       "  <thead>\n",
       "    <tr style=\"text-align: right;\">\n",
       "      <th></th>\n",
       "      <th>Cement</th>\n",
       "      <th>Blast Furnace Slag</th>\n",
       "      <th>Fly Ash</th>\n",
       "      <th>Water</th>\n",
       "      <th>Superplasticizer</th>\n",
       "      <th>Coarse Aggregate</th>\n",
       "      <th>Fine Aggregate</th>\n",
       "      <th>Age</th>\n",
       "    </tr>\n",
       "  </thead>\n",
       "  <tbody>\n",
       "    <tr>\n",
       "      <th>0</th>\n",
       "      <td>2.476712</td>\n",
       "      <td>-0.856472</td>\n",
       "      <td>-0.846733</td>\n",
       "      <td>-0.916319</td>\n",
       "      <td>-0.620147</td>\n",
       "      <td>0.862735</td>\n",
       "      <td>-1.217079</td>\n",
       "      <td>-0.279597</td>\n",
       "    </tr>\n",
       "    <tr>\n",
       "      <th>1</th>\n",
       "      <td>2.476712</td>\n",
       "      <td>-0.856472</td>\n",
       "      <td>-0.846733</td>\n",
       "      <td>-0.916319</td>\n",
       "      <td>-0.620147</td>\n",
       "      <td>1.055651</td>\n",
       "      <td>-1.217079</td>\n",
       "      <td>-0.279597</td>\n",
       "    </tr>\n",
       "    <tr>\n",
       "      <th>2</th>\n",
       "      <td>0.491187</td>\n",
       "      <td>0.795140</td>\n",
       "      <td>-0.846733</td>\n",
       "      <td>2.174405</td>\n",
       "      <td>-1.038638</td>\n",
       "      <td>-0.526262</td>\n",
       "      <td>-2.239829</td>\n",
       "      <td>3.551340</td>\n",
       "    </tr>\n",
       "    <tr>\n",
       "      <th>3</th>\n",
       "      <td>0.491187</td>\n",
       "      <td>0.795140</td>\n",
       "      <td>-0.846733</td>\n",
       "      <td>2.174405</td>\n",
       "      <td>-1.038638</td>\n",
       "      <td>-0.526262</td>\n",
       "      <td>-2.239829</td>\n",
       "      <td>5.055221</td>\n",
       "    </tr>\n",
       "    <tr>\n",
       "      <th>4</th>\n",
       "      <td>-0.790075</td>\n",
       "      <td>0.678079</td>\n",
       "      <td>-0.846733</td>\n",
       "      <td>0.488555</td>\n",
       "      <td>-1.038638</td>\n",
       "      <td>0.070492</td>\n",
       "      <td>0.647569</td>\n",
       "      <td>4.976069</td>\n",
       "    </tr>\n",
       "  </tbody>\n",
       "</table>\n",
       "</div>"
      ],
      "text/plain": [
       "     Cement  Blast Furnace Slag   Fly Ash     Water  Superplasticizer  \\\n",
       "0  2.476712           -0.856472 -0.846733 -0.916319         -0.620147   \n",
       "1  2.476712           -0.856472 -0.846733 -0.916319         -0.620147   \n",
       "2  0.491187            0.795140 -0.846733  2.174405         -1.038638   \n",
       "3  0.491187            0.795140 -0.846733  2.174405         -1.038638   \n",
       "4 -0.790075            0.678079 -0.846733  0.488555         -1.038638   \n",
       "\n",
       "   Coarse Aggregate  Fine Aggregate       Age  \n",
       "0          0.862735       -1.217079 -0.279597  \n",
       "1          1.055651       -1.217079 -0.279597  \n",
       "2         -0.526262       -2.239829  3.551340  \n",
       "3         -0.526262       -2.239829  5.055221  \n",
       "4          0.070492        0.647569  4.976069  "
      ]
     },
     "execution_count": 72,
     "metadata": {},
     "output_type": "execute_result"
    }
   ],
   "source": [
    "X_norm = (X - X.mean()) / X.std()\n",
    "X_norm.head()"
   ]
  },
  {
   "cell_type": "code",
   "execution_count": 73,
   "metadata": {},
   "outputs": [
    {
     "name": "stdout",
     "output_type": "stream",
     "text": [
      "8\n"
     ]
    }
   ],
   "source": [
    "n_cols = X.shape[1]\n",
    "print(n_cols)"
   ]
  },
  {
   "cell_type": "markdown",
   "metadata": {},
   "source": [
    "#### ---------------------------------  Submission -------------------------------------------------------------------------------------------------------------------"
   ]
  },
  {
   "cell_type": "markdown",
   "metadata": {},
   "source": [
    "## **A.** Build a baseline model\n",
    "\n",
    "Use the Keras library to build a neural network with the following:\n",
    "\n",
    "- One hidden layer of 10 nodes, and a ReLU activation function\n",
    "\n",
    "- Use the adam optimizer and the mean squared error as the loss function.\n",
    "\n",
    "1. Randomly split the data into a training and test sets by holding 30% of the data for testing. You can use the train_test_splithelper function from Scikit-learn.\n",
    "\n",
    "2. Train the model on the training data using 50 epochs.\n",
    "\n",
    "3. Evaluate the model on the test data and compute the mean squared error between the predicted concrete strength and the actual concrete strength. You can use the mean_squared_error function from Scikit-learn.\n",
    "\n",
    "4. Repeat steps 1 - 3, 50 times, i.e., create a list of 50 mean squared errors.\n",
    "\n",
    "5. Report the mean and the standard deviation of the mean squared errors."
   ]
  },
  {
   "cell_type": "markdown",
   "metadata": {},
   "source": [
    "### Import keras"
   ]
  },
  {
   "cell_type": "code",
   "execution_count": 74,
   "metadata": {},
   "outputs": [],
   "source": [
    "import keras\n",
    "from  keras.models import Sequential\n",
    "from keras.layers import Dense"
   ]
  },
  {
   "cell_type": "markdown",
   "metadata": {},
   "source": [
    "### keras Regression Model"
   ]
  },
  {
   "cell_type": "code",
   "execution_count": 75,
   "metadata": {},
   "outputs": [],
   "source": [
    "def regression_model():\n",
    "    # create model\n",
    "    model = Sequential()\n",
    "    model.add(Dense(10, activation='relu', input_shape=(n_cols,)))\n",
    "    model.add(Dense(1))\n",
    "    \n",
    "    # compile model\n",
    "    model.compile(optimizer='adam', loss='mean_squared_error')\n",
    "    return model"
   ]
  },
  {
   "cell_type": "markdown",
   "metadata": {},
   "source": [
    "#### Train - Test split"
   ]
  },
  {
   "cell_type": "code",
   "execution_count": 76,
   "metadata": {},
   "outputs": [],
   "source": [
    "from sklearn.model_selection import train_test_split"
   ]
  },
  {
   "cell_type": "code",
   "execution_count": 77,
   "metadata": {},
   "outputs": [],
   "source": [
    "X_train, X_test, y_train, y_test = train_test_split(X, y, test_size = 0.3, random_state = 42)"
   ]
  },
  {
   "cell_type": "markdown",
   "metadata": {},
   "source": [
    "#### *Train* the model"
   ]
  },
  {
   "cell_type": "code",
   "execution_count": 78,
   "metadata": {},
   "outputs": [],
   "source": [
    "model = regression_model()"
   ]
  },
  {
   "cell_type": "code",
   "execution_count": 79,
   "metadata": {},
   "outputs": [
    {
     "name": "stdout",
     "output_type": "stream",
     "text": [
      "Epoch 1/50\n",
      "721/721 [==============================] - 0s 150us/step - loss: 272333.7664\n",
      "Epoch 2/50\n",
      "721/721 [==============================] - 0s 24us/step - loss: 218301.0654\n",
      "Epoch 3/50\n",
      "721/721 [==============================] - 0s 29us/step - loss: 178443.0157\n",
      "Epoch 4/50\n",
      "721/721 [==============================] - 0s 35us/step - loss: 145015.4284\n",
      "Epoch 5/50\n",
      "721/721 [==============================] - 0s 25us/step - loss: 105364.9945\n",
      "Epoch 6/50\n",
      "721/721 [==============================] - 0s 26us/step - loss: 56409.9769\n",
      "Epoch 7/50\n",
      "721/721 [==============================] - 0s 30us/step - loss: 24661.5120\n",
      "Epoch 8/50\n",
      "721/721 [==============================] - 0s 32us/step - loss: 9762.0628\n",
      "Epoch 9/50\n",
      "721/721 [==============================] - 0s 31us/step - loss: 4145.5584\n",
      "Epoch 10/50\n",
      "721/721 [==============================] - 0s 31us/step - loss: 2541.8902\n",
      "Epoch 11/50\n",
      "721/721 [==============================] - 0s 24us/step - loss: 2166.1307\n",
      "Epoch 12/50\n",
      "721/721 [==============================] - 0s 26us/step - loss: 2047.8657\n",
      "Epoch 13/50\n",
      "721/721 [==============================] - 0s 26us/step - loss: 1966.7914\n",
      "Epoch 14/50\n",
      "721/721 [==============================] - 0s 32us/step - loss: 1887.5234\n",
      "Epoch 15/50\n",
      "721/721 [==============================] - 0s 26us/step - loss: 1805.4209\n",
      "Epoch 16/50\n",
      "721/721 [==============================] - 0s 26us/step - loss: 1723.6867\n",
      "Epoch 17/50\n",
      "721/721 [==============================] - 0s 26us/step - loss: 1648.7437\n",
      "Epoch 18/50\n",
      "721/721 [==============================] - 0s 26us/step - loss: 1569.6093\n",
      "Epoch 19/50\n",
      "721/721 [==============================] - 0s 25us/step - loss: 1493.4488\n",
      "Epoch 20/50\n",
      "721/721 [==============================] - 0s 21us/step - loss: 1419.8601\n",
      "Epoch 21/50\n",
      "721/721 [==============================] - 0s 24us/step - loss: 1341.7485\n",
      "Epoch 22/50\n",
      "721/721 [==============================] - 0s 22us/step - loss: 1269.7651\n",
      "Epoch 23/50\n",
      "721/721 [==============================] - 0s 28us/step - loss: 1196.0326\n",
      "Epoch 24/50\n",
      "721/721 [==============================] - 0s 19us/step - loss: 1129.7533\n",
      "Epoch 25/50\n",
      "721/721 [==============================] - 0s 21us/step - loss: 1065.2731\n",
      "Epoch 26/50\n",
      "721/721 [==============================] - 0s 25us/step - loss: 1007.0188\n",
      "Epoch 27/50\n",
      "721/721 [==============================] - 0s 22us/step - loss: 949.8549\n",
      "Epoch 28/50\n",
      "721/721 [==============================] - 0s 25us/step - loss: 898.2771\n",
      "Epoch 29/50\n",
      "721/721 [==============================] - 0s 21us/step - loss: 847.9905\n",
      "Epoch 30/50\n",
      "721/721 [==============================] - 0s 25us/step - loss: 801.5482\n",
      "Epoch 31/50\n",
      "721/721 [==============================] - 0s 32us/step - loss: 760.5527\n",
      "Epoch 32/50\n",
      "721/721 [==============================] - 0s 25us/step - loss: 724.4048\n",
      "Epoch 33/50\n",
      "721/721 [==============================] - 0s 29us/step - loss: 689.4241\n",
      "Epoch 34/50\n",
      "721/721 [==============================] - 0s 29us/step - loss: 655.7091\n",
      "Epoch 35/50\n",
      "721/721 [==============================] - 0s 28us/step - loss: 626.8635\n",
      "Epoch 36/50\n",
      "721/721 [==============================] - 0s 26us/step - loss: 599.9263\n",
      "Epoch 37/50\n",
      "721/721 [==============================] - 0s 29us/step - loss: 575.1667\n",
      "Epoch 38/50\n",
      "721/721 [==============================] - 0s 29us/step - loss: 551.8070\n",
      "Epoch 39/50\n",
      "721/721 [==============================] - 0s 25us/step - loss: 531.7888\n",
      "Epoch 40/50\n",
      "721/721 [==============================] - 0s 25us/step - loss: 513.8963\n",
      "Epoch 41/50\n",
      "721/721 [==============================] - 0s 29us/step - loss: 498.4218\n",
      "Epoch 42/50\n",
      "721/721 [==============================] - 0s 28us/step - loss: 484.3788\n",
      "Epoch 43/50\n",
      "721/721 [==============================] - 0s 22us/step - loss: 472.9572\n",
      "Epoch 44/50\n",
      "721/721 [==============================] - 0s 22us/step - loss: 462.0412\n",
      "Epoch 45/50\n",
      "721/721 [==============================] - 0s 26us/step - loss: 451.7709\n",
      "Epoch 46/50\n",
      "721/721 [==============================] - 0s 28us/step - loss: 443.2711\n",
      "Epoch 47/50\n",
      "721/721 [==============================] - 0s 31us/step - loss: 434.6778\n",
      "Epoch 48/50\n",
      "721/721 [==============================] - 0s 25us/step - loss: 426.8505\n",
      "Epoch 49/50\n",
      "721/721 [==============================] - 0s 26us/step - loss: 420.6635\n",
      "Epoch 50/50\n",
      "721/721 [==============================] - 0s 31us/step - loss: 413.9921\n"
     ]
    },
    {
     "data": {
      "text/plain": [
       "<keras.callbacks.callbacks.History at 0x22f27afb940>"
      ]
     },
     "execution_count": 79,
     "metadata": {},
     "output_type": "execute_result"
    }
   ],
   "source": [
    "model.fit(X_train, y_train, epochs=50, verbose=1)"
   ]
  },
  {
   "cell_type": "markdown",
   "metadata": {},
   "source": [
    "#### *Test* the model"
   ]
  },
  {
   "cell_type": "code",
   "execution_count": 80,
   "metadata": {},
   "outputs": [
    {
     "name": "stdout",
     "output_type": "stream",
     "text": [
      "309/309 [==============================] - 0s 32us/step\n",
      "432.7098643478838\n"
     ]
    }
   ],
   "source": [
    "loss = model.evaluate(X_test, y_test)\n",
    "print(loss)"
   ]
  },
  {
   "cell_type": "code",
   "execution_count": 81,
   "metadata": {},
   "outputs": [],
   "source": [
    "y_pred = model.predict(X_test)"
   ]
  },
  {
   "cell_type": "markdown",
   "metadata": {},
   "source": [
    "#### Compute *Mean Squared Error*\n",
    "between the predicted concrete strength and the actual concrete strength"
   ]
  },
  {
   "cell_type": "code",
   "execution_count": 82,
   "metadata": {},
   "outputs": [],
   "source": [
    "from sklearn.metrics import mean_squared_error"
   ]
  },
  {
   "cell_type": "code",
   "execution_count": 83,
   "metadata": {},
   "outputs": [
    {
     "name": "stdout",
     "output_type": "stream",
     "text": [
      "432.70986816572776\n"
     ]
    }
   ],
   "source": [
    "mse = mean_squared_error(y_test, y_pred)\n",
    "print(mse)"
   ]
  },
  {
   "cell_type": "markdown",
   "metadata": {},
   "source": [
    "#### *50* mean squared errors"
   ]
  },
  {
   "cell_type": "code",
   "execution_count": 84,
   "metadata": {},
   "outputs": [
    {
     "name": "stdout",
     "output_type": "stream",
     "text": [
      "MSE 1: 278.7064796620588\n",
      "MSE 2: 220.223395782767\n",
      "MSE 3: 149.24345244867516\n",
      "MSE 4: 122.80592906667962\n",
      "MSE 5: 111.60202939919283\n",
      "MSE 6: 99.53766024691387\n",
      "MSE 7: 127.19873994993932\n",
      "MSE 8: 73.05735267713231\n",
      "MSE 9: 67.49624959704946\n",
      "MSE 10: 84.33573479019708\n",
      "MSE 11: 70.44388617358162\n",
      "MSE 12: 58.035958435157355\n",
      "MSE 13: 69.99706727555655\n",
      "MSE 14: 67.32523673097678\n",
      "MSE 15: 65.1229818893482\n",
      "MSE 16: 56.46356751772192\n",
      "MSE 17: 60.794189761757465\n",
      "MSE 18: 55.01460485859596\n",
      "MSE 19: 58.20418272049296\n",
      "MSE 20: 63.644495633813555\n",
      "MSE 21: 55.48421930109413\n",
      "MSE 22: 65.00987460929599\n",
      "MSE 23: 55.00450029342306\n",
      "MSE 24: 60.63892971890644\n",
      "MSE 25: 55.558984355247524\n",
      "MSE 26: 64.60918957361511\n",
      "MSE 27: 56.6840592171382\n",
      "MSE 28: 62.7083652459302\n",
      "MSE 29: 63.45589381591402\n",
      "MSE 30: 65.45067358171283\n",
      "MSE 31: 67.13298501320256\n",
      "MSE 32: 61.52257815611015\n",
      "MSE 33: 62.33978298644032\n",
      "MSE 34: 62.60253669220267\n",
      "MSE 35: 61.08707316870828\n",
      "MSE 36: 69.12741201209404\n",
      "MSE 37: 62.369839640497005\n",
      "MSE 38: 66.60252340866138\n",
      "MSE 39: 57.41867975278194\n",
      "MSE 40: 58.01993734859726\n",
      "MSE 41: 69.7952600374191\n",
      "MSE 42: 66.24547954670435\n",
      "MSE 43: 62.7938320443854\n",
      "MSE 44: 65.823955177875\n",
      "MSE 45: 64.24974729173778\n",
      "MSE 46: 65.28268994328273\n",
      "MSE 47: 63.1895356656664\n",
      "MSE 48: 66.82876821474736\n",
      "MSE 49: 70.40150818315524\n",
      "MSE 50: 64.23157197526358\n",
      "\n",
      "\n",
      "Below is the mean and standard deviation of 50 mean squared errors without normalized data. Total number of epochs for each training is: 50\n",
      "\n",
      "Mean: 77.01847104352677\n",
      "Standard Deviation: 40.40459429889572\n"
     ]
    }
   ],
   "source": [
    "total_mean_squared_errors = 50\n",
    "epochs = 50\n",
    "mean_squared_errors = []\n",
    "for i in range(0, total_mean_squared_errors):\n",
    "    X_train, X_test, y_train, y_test = train_test_split(X, y, test_size=0.3, random_state=i)\n",
    "    model.fit(X_train, y_train, epochs=epochs, verbose=0)\n",
    "    MSE = model.evaluate(X_test, y_test, verbose=0)\n",
    "    print(\"MSE \"+str(i+1)+\": \"+str(MSE))\n",
    "    y_pred = model.predict(X_test)\n",
    "    mean_square_error = mean_squared_error(y_test, y_pred)\n",
    "    mean_squared_errors.append(mean_square_error)\n",
    "\n",
    "mean_squared_errors = np.array(mean_squared_errors)\n",
    "mean = np.mean(mean_squared_errors)\n",
    "standard_deviation = np.std(mean_squared_errors)\n",
    "\n",
    "print('\\n')\n",
    "print(\"Below is the mean and standard deviation of \" +str(total_mean_squared_errors) + \" mean squared errors without normalized data. Total number of epochs for each training is: \" +str(epochs) + \"\\n\")\n",
    "print(\"Mean: \"+str(mean))\n",
    "print(\"Standard Deviation: \"+str(standard_deviation))"
   ]
  },
  {
   "cell_type": "markdown",
   "metadata": {},
   "source": [
    "## **B.** Normalize the data\n",
    "\n",
    " - Repeat Part A but use a normalized version of the data. \n",
    " - Recall that one way to normalize the data is by subtracting the mean from the individual predictors and dividing by the standard deviation.\n",
    " - How does the mean of the mean squared errors compare to that from Step A ?"
   ]
  },
  {
   "cell_type": "markdown",
   "metadata": {},
   "source": [
    "#### Train - Test Split"
   ]
  },
  {
   "cell_type": "code",
   "execution_count": 85,
   "metadata": {},
   "outputs": [],
   "source": [
    "X_train_norm, X_test_norm, y_train, y_test = train_test_split(X_norm, y, test_size = 0.3, random_state = 42)"
   ]
  },
  {
   "cell_type": "markdown",
   "metadata": {},
   "source": [
    "#### *Train* the model"
   ]
  },
  {
   "cell_type": "code",
   "execution_count": 87,
   "metadata": {},
   "outputs": [
    {
     "name": "stdout",
     "output_type": "stream",
     "text": [
      "Epoch 1/50\n",
      "721/721 [==============================] - 0s 29us/step - loss: 301.1375\n",
      "Epoch 2/50\n",
      "721/721 [==============================] - 0s 26us/step - loss: 291.0998\n",
      "Epoch 3/50\n",
      "721/721 [==============================] - 0s 22us/step - loss: 281.1601\n",
      "Epoch 4/50\n",
      "721/721 [==============================] - 0s 28us/step - loss: 271.6438\n",
      "Epoch 5/50\n",
      "721/721 [==============================] - 0s 33us/step - loss: 262.9007\n",
      "Epoch 6/50\n",
      "721/721 [==============================] - 0s 31us/step - loss: 254.3113\n",
      "Epoch 7/50\n",
      "721/721 [==============================] - 0s 39us/step - loss: 246.3465\n",
      "Epoch 8/50\n",
      "721/721 [==============================] - 0s 37us/step - loss: 238.7796\n",
      "Epoch 9/50\n",
      "721/721 [==============================] - 0s 33us/step - loss: 231.6693\n",
      "Epoch 10/50\n",
      "721/721 [==============================] - 0s 42us/step - loss: 224.8832\n",
      "Epoch 11/50\n",
      "721/721 [==============================] - 0s 43us/step - loss: 218.4848\n",
      "Epoch 12/50\n",
      "721/721 [==============================] - 0s 37us/step - loss: 212.5280\n",
      "Epoch 13/50\n",
      "721/721 [==============================] - 0s 37us/step - loss: 206.7904\n",
      "Epoch 14/50\n",
      "721/721 [==============================] - 0s 37us/step - loss: 201.5026\n",
      "Epoch 15/50\n",
      "721/721 [==============================] - 0s 36us/step - loss: 196.2742\n",
      "Epoch 16/50\n",
      "721/721 [==============================] - 0s 33us/step - loss: 191.4879\n",
      "Epoch 17/50\n",
      "721/721 [==============================] - 0s 49us/step - loss: 186.9933\n",
      "Epoch 18/50\n",
      "721/721 [==============================] - 0s 35us/step - loss: 182.7930\n",
      "Epoch 19/50\n",
      "721/721 [==============================] - 0s 39us/step - loss: 178.6779\n",
      "Epoch 20/50\n",
      "721/721 [==============================] - 0s 36us/step - loss: 174.9886\n",
      "Epoch 21/50\n",
      "721/721 [==============================] - 0s 37us/step - loss: 171.4659\n",
      "Epoch 22/50\n",
      "721/721 [==============================] - 0s 29us/step - loss: 168.2438\n",
      "Epoch 23/50\n",
      "721/721 [==============================] - 0s 33us/step - loss: 165.1132\n",
      "Epoch 24/50\n",
      "721/721 [==============================] - 0s 35us/step - loss: 162.2993\n",
      "Epoch 25/50\n",
      "721/721 [==============================] - 0s 33us/step - loss: 159.6330\n",
      "Epoch 26/50\n",
      "721/721 [==============================] - 0s 26us/step - loss: 157.2483\n",
      "Epoch 27/50\n",
      "721/721 [==============================] - 0s 31us/step - loss: 154.7967\n",
      "Epoch 28/50\n",
      "721/721 [==============================] - 0s 33us/step - loss: 152.6477\n",
      "Epoch 29/50\n",
      "721/721 [==============================] - 0s 29us/step - loss: 150.5757\n",
      "Epoch 30/50\n",
      "721/721 [==============================] - 0s 24us/step - loss: 148.6557\n",
      "Epoch 31/50\n",
      "721/721 [==============================] - 0s 26us/step - loss: 146.8071\n",
      "Epoch 32/50\n",
      "721/721 [==============================] - 0s 39us/step - loss: 145.0550\n",
      "Epoch 33/50\n",
      "721/721 [==============================] - 0s 46us/step - loss: 143.5260\n",
      "Epoch 34/50\n",
      "721/721 [==============================] - 0s 49us/step - loss: 141.9916\n",
      "Epoch 35/50\n",
      "721/721 [==============================] - 0s 36us/step - loss: 140.5413\n",
      "Epoch 36/50\n",
      "721/721 [==============================] - 0s 37us/step - loss: 139.2453\n",
      "Epoch 37/50\n",
      "721/721 [==============================] - 0s 33us/step - loss: 137.9901\n",
      "Epoch 38/50\n",
      "721/721 [==============================] - 0s 29us/step - loss: 136.6825\n",
      "Epoch 39/50\n",
      "721/721 [==============================] - 0s 29us/step - loss: 135.5774\n",
      "Epoch 40/50\n",
      "721/721 [==============================] - 0s 28us/step - loss: 134.3728\n",
      "Epoch 41/50\n",
      "721/721 [==============================] - 0s 26us/step - loss: 133.2744\n",
      "Epoch 42/50\n",
      "721/721 [==============================] - 0s 26us/step - loss: 132.2308\n",
      "Epoch 43/50\n",
      "721/721 [==============================] - 0s 42us/step - loss: 131.2025\n",
      "Epoch 44/50\n",
      "721/721 [==============================] - 0s 28us/step - loss: 130.1829\n",
      "Epoch 45/50\n",
      "721/721 [==============================] - 0s 29us/step - loss: 129.2453\n",
      "Epoch 46/50\n",
      "721/721 [==============================] - 0s 26us/step - loss: 128.3133\n",
      "Epoch 47/50\n",
      "721/721 [==============================] - 0s 26us/step - loss: 127.4131\n",
      "Epoch 48/50\n",
      "721/721 [==============================] - 0s 26us/step - loss: 126.5150\n",
      "Epoch 49/50\n",
      "721/721 [==============================] - 0s 28us/step - loss: 125.6429\n",
      "Epoch 50/50\n",
      "721/721 [==============================] - 0s 35us/step - loss: 124.7850\n"
     ]
    },
    {
     "data": {
      "text/plain": [
       "<keras.callbacks.callbacks.History at 0x22f27f9f5f8>"
      ]
     },
     "execution_count": 87,
     "metadata": {},
     "output_type": "execute_result"
    }
   ],
   "source": [
    "model.fit(X_train_norm, y_train, epochs=50, verbose=1)"
   ]
  },
  {
   "cell_type": "markdown",
   "metadata": {},
   "source": [
    "#### *Test* the model"
   ]
  },
  {
   "cell_type": "code",
   "execution_count": 88,
   "metadata": {},
   "outputs": [
    {
     "name": "stdout",
     "output_type": "stream",
     "text": [
      "309/309 [==============================] - 0s 13us/step\n",
      "122.12650978063688\n"
     ]
    }
   ],
   "source": [
    "loss = model.evaluate(X_test_norm, y_test)\n",
    "print(loss)"
   ]
  },
  {
   "cell_type": "code",
   "execution_count": 89,
   "metadata": {},
   "outputs": [],
   "source": [
    "y_pred = model.predict(X_test_norm)"
   ]
  },
  {
   "cell_type": "markdown",
   "metadata": {},
   "source": [
    "#### Compute *Mean Squared Error*"
   ]
  },
  {
   "cell_type": "code",
   "execution_count": 90,
   "metadata": {},
   "outputs": [
    {
     "name": "stdout",
     "output_type": "stream",
     "text": [
      "122.12651083083885\n"
     ]
    }
   ],
   "source": [
    "mse = mean_squared_error(y_test, y_pred)\n",
    "print(mse)"
   ]
  },
  {
   "cell_type": "markdown",
   "metadata": {},
   "source": [
    "#### *50* mean squared errors"
   ]
  },
  {
   "cell_type": "code",
   "execution_count": 91,
   "metadata": {},
   "outputs": [
    {
     "name": "stdout",
     "output_type": "stream",
     "text": [
      "MSE 1: 97.14688730085552\n",
      "MSE 2: 95.49397070431014\n",
      "MSE 3: 74.22389501429684\n",
      "MSE 4: 58.423432100166394\n",
      "MSE 5: 49.335282952268535\n",
      "MSE 6: 49.46778875801556\n",
      "MSE 7: 46.565087327679386\n",
      "MSE 8: 34.856987011857015\n",
      "MSE 9: 39.247259775797524\n",
      "MSE 10: 39.2620041486129\n",
      "MSE 11: 39.078239181666696\n",
      "MSE 12: 34.50168552213502\n",
      "MSE 13: 43.87015635913244\n",
      "MSE 14: 43.03107427701981\n",
      "MSE 15: 34.300878629715314\n",
      "MSE 16: 31.4853489329514\n",
      "MSE 17: 35.7773354230961\n",
      "MSE 18: 35.18904015007143\n",
      "MSE 19: 33.74489973741056\n",
      "MSE 20: 34.739442066081516\n",
      "MSE 21: 31.883312533974262\n",
      "MSE 22: 32.70110353142698\n",
      "MSE 23: 30.98669460753407\n",
      "MSE 24: 33.70213484532625\n",
      "MSE 25: 33.96202463316686\n",
      "MSE 26: 35.743776772014535\n",
      "MSE 27: 31.607845047145215\n",
      "MSE 28: 30.672679117196587\n",
      "MSE 29: 37.331322580479494\n",
      "MSE 30: 33.50381959217652\n",
      "MSE 31: 31.04189567195559\n",
      "MSE 32: 31.908509121743606\n",
      "MSE 33: 31.915014310176318\n",
      "MSE 34: 33.28810963430065\n",
      "MSE 35: 34.27111581845577\n",
      "MSE 36: 39.25434849563154\n",
      "MSE 37: 28.610294780299117\n",
      "MSE 38: 34.999076904988215\n",
      "MSE 39: 31.66178716270669\n",
      "MSE 40: 27.831065995793512\n",
      "MSE 41: 33.8682835156092\n",
      "MSE 42: 28.039523072227304\n",
      "MSE 43: 32.861701064125235\n",
      "MSE 44: 35.174819612966\n",
      "MSE 45: 34.077560967997826\n",
      "MSE 46: 32.033694011108004\n",
      "MSE 47: 30.902042413606612\n",
      "MSE 48: 33.327923512381645\n",
      "MSE 49: 31.499493836584985\n",
      "MSE 50: 31.58175261661073\n",
      "\n",
      "\n",
      "Below is the mean and standard deviation of 50 mean squared errors without normalized data. Total number of epochs for each training is: 50\n",
      "\n",
      "Mean: 38.59966807664984\n",
      "Standard Deviation: 14.184869239528343\n"
     ]
    }
   ],
   "source": [
    "total_mean_squared_errors = 50\n",
    "epochs = 50\n",
    "mean_squared_errors = []\n",
    "for i in range(0, total_mean_squared_errors):\n",
    "    X_train_norm, X_test_norm, y_train, y_test = train_test_split(X_norm, y, test_size=0.3, random_state=i)\n",
    "    model.fit(X_train_norm, y_train, epochs=epochs, verbose=0)\n",
    "    MSE = model.evaluate(X_test_norm, y_test, verbose=0)\n",
    "    print(\"MSE \"+str(i+1)+\": \"+str(MSE))\n",
    "    y_pred = model.predict(X_test_norm)\n",
    "    mean_square_error = mean_squared_error(y_test, y_pred)\n",
    "    mean_squared_errors.append(mean_square_error)\n",
    "\n",
    "mean_squared_errors = np.array(mean_squared_errors)\n",
    "mean = np.mean(mean_squared_errors)\n",
    "standard_deviation = np.std(mean_squared_errors)\n",
    "\n",
    "print('\\n')\n",
    "print(\"Below is the mean and standard deviation of \" +str(total_mean_squared_errors) + \" mean squared errors without normalized data. Total number of epochs for each training is: \" +str(epochs) + \"\\n\")\n",
    "print(\"Mean: \"+str(mean))\n",
    "print(\"Standard Deviation: \"+str(standard_deviation))"
   ]
  },
  {
   "cell_type": "markdown",
   "metadata": {},
   "source": [
    "####  Comparision of the mean of the mean squared errors between step *A* & step *B*"
   ]
  },
  {
   "cell_type": "code",
   "execution_count": 92,
   "metadata": {},
   "outputs": [
    {
     "name": "stdout",
     "output_type": "stream",
     "text": [
      "Step A : mean of the MSEs = 77.02\n",
      "Step B : mean of the MSEs = 38.59\n"
     ]
    }
   ],
   "source": [
    "print(\"Step A : mean of the MSEs = 77.02\" \"\\n\" \"Step B : mean of the MSEs = 38.59\")"
   ]
  },
  {
   "cell_type": "markdown",
   "metadata": {},
   "source": [
    "#### Comment\n",
    "mean of MSEs decrease after normalizing the predictors. Recommended"
   ]
  },
  {
   "cell_type": "markdown",
   "metadata": {},
   "source": [
    "## C. Increase the number of epochs \n",
    "\n",
    " - Repeat Part B but using 100 epochs this time for training\n",
    " - How does the mean of the mean squared errors compare to that from Step B ?\n"
   ]
  },
  {
   "cell_type": "markdown",
   "metadata": {},
   "source": [
    "#### *Train* the model"
   ]
  },
  {
   "cell_type": "code",
   "execution_count": 94,
   "metadata": {},
   "outputs": [
    {
     "name": "stdout",
     "output_type": "stream",
     "text": [
      "Epoch 1/100\n",
      "721/721 [==============================] - 0s 26us/step - loss: 27.2428\n",
      "Epoch 2/100\n",
      "721/721 [==============================] - 0s 25us/step - loss: 27.2223\n",
      "Epoch 3/100\n",
      "721/721 [==============================] - 0s 21us/step - loss: 27.2984\n",
      "Epoch 4/100\n",
      "721/721 [==============================] - 0s 29us/step - loss: 27.2257\n",
      "Epoch 5/100\n",
      "721/721 [==============================] - 0s 36us/step - loss: 27.2511\n",
      "Epoch 6/100\n",
      "721/721 [==============================] - 0s 33us/step - loss: 27.2308\n",
      "Epoch 7/100\n",
      "721/721 [==============================] - 0s 36us/step - loss: 27.2129\n",
      "Epoch 8/100\n",
      "721/721 [==============================] - 0s 32us/step - loss: 27.2340\n",
      "Epoch 9/100\n",
      "721/721 [==============================] - 0s 35us/step - loss: 27.2606\n",
      "Epoch 10/100\n",
      "721/721 [==============================] - 0s 31us/step - loss: 27.1987\n",
      "Epoch 11/100\n",
      "721/721 [==============================] - 0s 33us/step - loss: 27.2377\n",
      "Epoch 12/100\n",
      "721/721 [==============================] - 0s 32us/step - loss: 27.2096\n",
      "Epoch 13/100\n",
      "721/721 [==============================] - 0s 32us/step - loss: 27.1989\n",
      "Epoch 14/100\n",
      "721/721 [==============================] - 0s 32us/step - loss: 27.2676\n",
      "Epoch 15/100\n",
      "721/721 [==============================] - 0s 35us/step - loss: 27.2578\n",
      "Epoch 16/100\n",
      "721/721 [==============================] - 0s 32us/step - loss: 27.2152\n",
      "Epoch 17/100\n",
      "721/721 [==============================] - 0s 29us/step - loss: 27.1899\n",
      "Epoch 18/100\n",
      "721/721 [==============================] - 0s 29us/step - loss: 27.2091\n",
      "Epoch 19/100\n",
      "721/721 [==============================] - 0s 26us/step - loss: 27.2732\n",
      "Epoch 20/100\n",
      "721/721 [==============================] - 0s 22us/step - loss: 27.2031\n",
      "Epoch 21/100\n",
      "721/721 [==============================] - 0s 28us/step - loss: 27.1974\n",
      "Epoch 22/100\n",
      "721/721 [==============================] - 0s 29us/step - loss: 27.1896\n",
      "Epoch 23/100\n",
      "721/721 [==============================] - 0s 26us/step - loss: 27.2041\n",
      "Epoch 24/100\n",
      "721/721 [==============================] - 0s 26us/step - loss: 27.2362\n",
      "Epoch 25/100\n",
      "721/721 [==============================] - 0s 24us/step - loss: 27.1838\n",
      "Epoch 26/100\n",
      "721/721 [==============================] - 0s 25us/step - loss: 27.2576\n",
      "Epoch 27/100\n",
      "721/721 [==============================] - 0s 26us/step - loss: 27.1960\n",
      "Epoch 28/100\n",
      "721/721 [==============================] - 0s 32us/step - loss: 27.2352\n",
      "Epoch 29/100\n",
      "721/721 [==============================] - 0s 26us/step - loss: 27.1741\n",
      "Epoch 30/100\n",
      "721/721 [==============================] - 0s 25us/step - loss: 27.1945\n",
      "Epoch 31/100\n",
      "721/721 [==============================] - 0s 25us/step - loss: 27.1933\n",
      "Epoch 32/100\n",
      "721/721 [==============================] - 0s 36us/step - loss: 27.1749\n",
      "Epoch 33/100\n",
      "721/721 [==============================] - 0s 26us/step - loss: 27.1740\n",
      "Epoch 34/100\n",
      "721/721 [==============================] - 0s 29us/step - loss: 27.2309\n",
      "Epoch 35/100\n",
      "721/721 [==============================] - 0s 37us/step - loss: 27.1478\n",
      "Epoch 36/100\n",
      "721/721 [==============================] - 0s 31us/step - loss: 27.1707\n",
      "Epoch 37/100\n",
      "721/721 [==============================] - 0s 33us/step - loss: 27.1900\n",
      "Epoch 38/100\n",
      "721/721 [==============================] - 0s 31us/step - loss: 27.1729\n",
      "Epoch 39/100\n",
      "721/721 [==============================] - 0s 35us/step - loss: 27.2278\n",
      "Epoch 40/100\n",
      "721/721 [==============================] - 0s 28us/step - loss: 27.2039\n",
      "Epoch 41/100\n",
      "721/721 [==============================] - 0s 29us/step - loss: 27.1884\n",
      "Epoch 42/100\n",
      "721/721 [==============================] - 0s 31us/step - loss: 27.1894\n",
      "Epoch 43/100\n",
      "721/721 [==============================] - 0s 32us/step - loss: 27.1664\n",
      "Epoch 44/100\n",
      "721/721 [==============================] - 0s 32us/step - loss: 27.1423\n",
      "Epoch 45/100\n",
      "721/721 [==============================] - 0s 31us/step - loss: 27.2116\n",
      "Epoch 46/100\n",
      "721/721 [==============================] - 0s 24us/step - loss: 27.1341\n",
      "Epoch 47/100\n",
      "721/721 [==============================] - 0s 32us/step - loss: 27.1884\n",
      "Epoch 48/100\n",
      "721/721 [==============================] - 0s 24us/step - loss: 27.1570\n",
      "Epoch 49/100\n",
      "721/721 [==============================] - 0s 28us/step - loss: 27.1581\n",
      "Epoch 50/100\n",
      "721/721 [==============================] - 0s 29us/step - loss: 27.1430\n",
      "Epoch 51/100\n",
      "721/721 [==============================] - 0s 33us/step - loss: 27.1792\n",
      "Epoch 52/100\n",
      "721/721 [==============================] - 0s 26us/step - loss: 27.2140\n",
      "Epoch 53/100\n",
      "721/721 [==============================] - 0s 25us/step - loss: 27.1799\n",
      "Epoch 54/100\n",
      "721/721 [==============================] - 0s 32us/step - loss: 27.2320\n",
      "Epoch 55/100\n",
      "721/721 [==============================] - 0s 22us/step - loss: 27.1879\n",
      "Epoch 56/100\n",
      "721/721 [==============================] - 0s 28us/step - loss: 27.2430\n",
      "Epoch 57/100\n",
      "721/721 [==============================] - 0s 25us/step - loss: 27.2362\n",
      "Epoch 58/100\n",
      "721/721 [==============================] - 0s 28us/step - loss: 27.1555\n",
      "Epoch 59/100\n",
      "721/721 [==============================] - 0s 33us/step - loss: 27.1624\n",
      "Epoch 60/100\n",
      "721/721 [==============================] - 0s 31us/step - loss: 27.1572\n",
      "Epoch 61/100\n",
      "721/721 [==============================] - 0s 26us/step - loss: 27.1578\n",
      "Epoch 62/100\n",
      "721/721 [==============================] - 0s 31us/step - loss: 27.1302\n",
      "Epoch 63/100\n",
      "721/721 [==============================] - 0s 24us/step - loss: 27.1561\n",
      "Epoch 64/100\n",
      "721/721 [==============================] - 0s 25us/step - loss: 27.1348\n",
      "Epoch 65/100\n",
      "721/721 [==============================] - 0s 26us/step - loss: 27.1236\n",
      "Epoch 66/100\n",
      "721/721 [==============================] - 0s 25us/step - loss: 27.1172\n",
      "Epoch 67/100\n",
      "721/721 [==============================] - 0s 26us/step - loss: 27.1669\n",
      "Epoch 68/100\n",
      "721/721 [==============================] - 0s 30us/step - loss: 27.2712\n",
      "Epoch 69/100\n",
      "721/721 [==============================] - 0s 25us/step - loss: 27.0843\n",
      "Epoch 70/100\n",
      "721/721 [==============================] - 0s 24us/step - loss: 27.1922\n",
      "Epoch 71/100\n",
      "721/721 [==============================] - 0s 24us/step - loss: 27.1729\n",
      "Epoch 72/100\n",
      "721/721 [==============================] - 0s 24us/step - loss: 27.1192\n",
      "Epoch 73/100\n",
      "721/721 [==============================] - 0s 26us/step - loss: 27.1522\n",
      "Epoch 74/100\n",
      "721/721 [==============================] - 0s 24us/step - loss: 27.1755\n",
      "Epoch 75/100\n",
      "721/721 [==============================] - 0s 28us/step - loss: 27.1403\n",
      "Epoch 76/100\n",
      "721/721 [==============================] - 0s 22us/step - loss: 27.1711\n",
      "Epoch 77/100\n",
      "721/721 [==============================] - 0s 26us/step - loss: 27.1140\n",
      "Epoch 78/100\n",
      "721/721 [==============================] - 0s 21us/step - loss: 27.1276\n",
      "Epoch 79/100\n",
      "721/721 [==============================] - 0s 25us/step - loss: 27.1383\n",
      "Epoch 80/100\n",
      "721/721 [==============================] - 0s 19us/step - loss: 27.1135\n",
      "Epoch 81/100\n",
      "721/721 [==============================] - 0s 22us/step - loss: 27.1183\n",
      "Epoch 82/100\n",
      "721/721 [==============================] - 0s 24us/step - loss: 27.1126\n",
      "Epoch 83/100\n",
      "721/721 [==============================] - 0s 25us/step - loss: 27.1420\n",
      "Epoch 84/100\n",
      "721/721 [==============================] - 0s 25us/step - loss: 27.1065\n",
      "Epoch 85/100\n",
      "721/721 [==============================] - 0s 25us/step - loss: 27.1260\n",
      "Epoch 86/100\n",
      "721/721 [==============================] - 0s 31us/step - loss: 27.1371\n",
      "Epoch 87/100\n",
      "721/721 [==============================] - 0s 28us/step - loss: 27.1296\n",
      "Epoch 88/100\n",
      "721/721 [==============================] - 0s 39us/step - loss: 27.1281\n",
      "Epoch 89/100\n",
      "721/721 [==============================] - 0s 29us/step - loss: 27.1134\n",
      "Epoch 90/100\n",
      "721/721 [==============================] - 0s 24us/step - loss: 27.1461\n",
      "Epoch 91/100\n",
      "721/721 [==============================] - 0s 26us/step - loss: 27.1288\n",
      "Epoch 92/100\n",
      "721/721 [==============================] - 0s 28us/step - loss: 27.1014\n",
      "Epoch 93/100\n",
      "721/721 [==============================] - 0s 25us/step - loss: 27.1018\n",
      "Epoch 94/100\n",
      "721/721 [==============================] - 0s 25us/step - loss: 27.1308\n",
      "Epoch 95/100\n",
      "721/721 [==============================] - 0s 28us/step - loss: 27.1299\n",
      "Epoch 96/100\n",
      "721/721 [==============================] - 0s 25us/step - loss: 27.0983\n",
      "Epoch 97/100\n",
      "721/721 [==============================] - 0s 22us/step - loss: 27.0953\n",
      "Epoch 98/100\n",
      "721/721 [==============================] - 0s 29us/step - loss: 27.0919\n",
      "Epoch 99/100\n",
      "721/721 [==============================] - 0s 33us/step - loss: 27.2286\n",
      "Epoch 100/100\n",
      "721/721 [==============================] - 0s 22us/step - loss: 27.1099\n"
     ]
    },
    {
     "data": {
      "text/plain": [
       "<keras.callbacks.callbacks.History at 0x22f27fae4a8>"
      ]
     },
     "execution_count": 94,
     "metadata": {},
     "output_type": "execute_result"
    }
   ],
   "source": [
    "model.fit(X_train_norm, y_train, epochs= 100, verbose=1)"
   ]
  },
  {
   "cell_type": "markdown",
   "metadata": {},
   "source": [
    "#### *Test* the model\n"
   ]
  },
  {
   "cell_type": "code",
   "execution_count": 95,
   "metadata": {},
   "outputs": [
    {
     "name": "stdout",
     "output_type": "stream",
     "text": [
      "309/309 [==============================] - 0s 16us/step\n",
      "32.45522461431312\n"
     ]
    }
   ],
   "source": [
    "loss = model.evaluate(X_test_norm, y_test)\n",
    "print(loss)"
   ]
  },
  {
   "cell_type": "code",
   "execution_count": 96,
   "metadata": {},
   "outputs": [],
   "source": [
    "y_pred = model.predict(X_test_norm)"
   ]
  },
  {
   "cell_type": "markdown",
   "metadata": {},
   "source": [
    "#### Compute *Mean Squared Error*\n"
   ]
  },
  {
   "cell_type": "code",
   "execution_count": 97,
   "metadata": {},
   "outputs": [
    {
     "name": "stdout",
     "output_type": "stream",
     "text": [
      "32.45522401517247\n"
     ]
    }
   ],
   "source": [
    "mse = mean_squared_error(y_test, y_pred)\n",
    "print(mse)"
   ]
  },
  {
   "cell_type": "markdown",
   "metadata": {},
   "source": [
    "#### *50* mean squared errors"
   ]
  },
  {
   "cell_type": "code",
   "execution_count": 98,
   "metadata": {},
   "outputs": [
    {
     "name": "stdout",
     "output_type": "stream",
     "text": [
      "MSE 1: 32.96490092107779\n",
      "MSE 2: 34.723996881528194\n",
      "MSE 3: 27.341834947900864\n",
      "MSE 4: 29.071035798699338\n",
      "MSE 5: 30.246378667146256\n",
      "MSE 6: 33.69630527187705\n",
      "MSE 7: 34.6087549697234\n",
      "MSE 8: 27.587113223029572\n",
      "MSE 9: 29.868241739118755\n",
      "MSE 10: 31.183269476041826\n",
      "MSE 11: 31.395588624824597\n",
      "MSE 12: 26.12258835209226\n",
      "MSE 13: 32.08344797177608\n",
      "MSE 14: 31.997851004492503\n",
      "MSE 15: 29.017904608766624\n",
      "MSE 16: 24.271496923996022\n",
      "MSE 17: 30.447323530623056\n",
      "MSE 18: 28.8505007796303\n",
      "MSE 19: 27.528655326867952\n",
      "MSE 20: 31.043848216726555\n",
      "MSE 21: 26.137320521579976\n",
      "MSE 22: 27.633374229603987\n",
      "MSE 23: 24.555370843140437\n",
      "MSE 24: 25.095071416070933\n",
      "MSE 25: 28.781182952683334\n",
      "MSE 26: 29.89794867555686\n",
      "MSE 27: 25.955003954446045\n",
      "MSE 28: 26.000866109113478\n",
      "MSE 29: 29.542306338313328\n",
      "MSE 30: 27.854482496440603\n",
      "MSE 31: 27.515337626139324\n",
      "MSE 32: 25.24206582165073\n",
      "MSE 33: 25.5530434889315\n",
      "MSE 34: 27.356915168391847\n",
      "MSE 35: 31.402264962304372\n",
      "MSE 36: 33.54835247299046\n",
      "MSE 37: 23.497486274990834\n",
      "MSE 38: 28.73989382993828\n",
      "MSE 39: 26.899320065396502\n",
      "MSE 40: 22.24800235785327\n",
      "MSE 41: 30.41959178023354\n",
      "MSE 42: 22.848416640148965\n",
      "MSE 43: 26.499404678838538\n",
      "MSE 44: 31.246713446953535\n",
      "MSE 45: 27.506142711948037\n",
      "MSE 46: 27.88488846072101\n",
      "MSE 47: 26.116463275403266\n",
      "MSE 48: 27.300843988807458\n",
      "MSE 49: 26.51362936396429\n",
      "MSE 50: 27.276121417295585\n",
      "\n",
      "\n",
      "Below is the mean and standard deviation of 50 mean squared errors without normalized data. Total number of epochs for each training is: 100\n",
      "\n",
      "Mean: 28.422376887687168\n",
      "Standard Deviation: 2.96299553887173\n"
     ]
    }
   ],
   "source": [
    "total_mean_squared_errors = 50\n",
    "epochs = 100\n",
    "mean_squared_errors = []\n",
    "for i in range(0, total_mean_squared_errors):\n",
    "    X_train_norm, X_test_norm, y_train, y_test = train_test_split(X_norm, y, test_size=0.3, random_state=i)\n",
    "    model.fit(X_train_norm, y_train, epochs=epochs, verbose=0)\n",
    "    MSE = model.evaluate(X_test_norm, y_test, verbose=0)\n",
    "    print(\"MSE \"+str(i+1)+\": \"+str(MSE))\n",
    "    y_pred = model.predict(X_test_norm)\n",
    "    mean_square_error = mean_squared_error(y_test, y_pred)\n",
    "    mean_squared_errors.append(mean_square_error)\n",
    "\n",
    "mean_squared_errors = np.array(mean_squared_errors)\n",
    "mean = np.mean(mean_squared_errors)\n",
    "standard_deviation = np.std(mean_squared_errors)\n",
    "\n",
    "print('\\n')\n",
    "print(\"Below is the mean and standard deviation of \" +str(total_mean_squared_errors) + \" mean squared errors without normalized data. Total number of epochs for each training is: \" +str(epochs) + \"\\n\")\n",
    "print(\"Mean: \"+str(mean))\n",
    "print(\"Standard Deviation: \"+str(standard_deviation))"
   ]
  },
  {
   "cell_type": "markdown",
   "metadata": {},
   "source": [
    "#### Comparision of the mean of the mean squared errors between step *B* & step *C*"
   ]
  },
  {
   "cell_type": "code",
   "execution_count": 99,
   "metadata": {},
   "outputs": [
    {
     "name": "stdout",
     "output_type": "stream",
     "text": [
      "Step B : mean of the MSEs = 38.59\n",
      "Step C : mean of the MSEs = 28.42\n"
     ]
    }
   ],
   "source": [
    "print(\"Step B : mean of the MSEs = 38.59\" \"\\n\" \"Step C : mean of the MSEs = 28.42\")"
   ]
  },
  {
   "cell_type": "markdown",
   "metadata": {},
   "source": [
    "#### Comment\n",
    "mean of MSEs decreased after increasing the epochs. there should be a trade-off between the number of epochs and the computational power and time"
   ]
  },
  {
   "cell_type": "markdown",
   "metadata": {},
   "source": [
    "## D. Increase the number of hidden layers \n",
    "\n",
    "Repeat part B but use a neural network with the following instead:\n",
    "- Three hidden layers, each of 10 nodes and ReLU activation function\n",
    "- How does the mean of the mean squared errors compare to that from Step B ?"
   ]
  },
  {
   "cell_type": "markdown",
   "metadata": {},
   "source": [
    "#### keras Regression model with *three hidden layers, each of 10 nodes and ReLU activation function*"
   ]
  },
  {
   "cell_type": "code",
   "execution_count": 105,
   "metadata": {},
   "outputs": [],
   "source": [
    "def regression_model_2():\n",
    "    # create model\n",
    "    model = Sequential()\n",
    "    model.add(Dense(10, activation='relu', input_shape=(n_cols,)))\n",
    "    model.add(Dense(10, activation = 'relu'))\n",
    "    model.add(Dense(10, activation = 'relu'))\n",
    "    model.add(Dense(1))\n",
    "    \n",
    "    # compile model\n",
    "    model.compile(optimizer='adam', loss='mean_squared_error')\n",
    "    return model"
   ]
  },
  {
   "cell_type": "markdown",
   "metadata": {},
   "source": [
    "#### *Train* the model"
   ]
  },
  {
   "cell_type": "code",
   "execution_count": 106,
   "metadata": {},
   "outputs": [],
   "source": [
    "model = regression_model_2()"
   ]
  },
  {
   "cell_type": "code",
   "execution_count": 107,
   "metadata": {},
   "outputs": [
    {
     "name": "stdout",
     "output_type": "stream",
     "text": [
      "Epoch 1/50\n",
      "721/721 [==============================] - 0s 133us/step - loss: 1588.1386\n",
      "Epoch 2/50\n",
      "721/721 [==============================] - 0s 26us/step - loss: 1571.3953\n",
      "Epoch 3/50\n",
      "721/721 [==============================] - 0s 36us/step - loss: 1559.3274\n",
      "Epoch 4/50\n",
      "721/721 [==============================] - 0s 32us/step - loss: 1547.2591\n",
      "Epoch 5/50\n",
      "721/721 [==============================] - 0s 39us/step - loss: 1532.1800\n",
      "Epoch 6/50\n",
      "721/721 [==============================] - 0s 36us/step - loss: 1508.0190\n",
      "Epoch 7/50\n",
      "721/721 [==============================] - 0s 33us/step - loss: 1462.5932\n",
      "Epoch 8/50\n",
      "721/721 [==============================] - 0s 36us/step - loss: 1387.2158\n",
      "Epoch 9/50\n",
      "721/721 [==============================] - 0s 33us/step - loss: 1266.3767\n",
      "Epoch 10/50\n",
      "721/721 [==============================] - 0s 36us/step - loss: 1091.8466\n",
      "Epoch 11/50\n",
      "721/721 [==============================] - 0s 37us/step - loss: 861.8500\n",
      "Epoch 12/50\n",
      "721/721 [==============================] - 0s 37us/step - loss: 614.2162\n",
      "Epoch 13/50\n",
      "721/721 [==============================] - 0s 37us/step - loss: 400.2724\n",
      "Epoch 14/50\n",
      "721/721 [==============================] - 0s 35us/step - loss: 278.6959\n",
      "Epoch 15/50\n",
      "721/721 [==============================] - 0s 31us/step - loss: 228.7089\n",
      "Epoch 16/50\n",
      "721/721 [==============================] - 0s 32us/step - loss: 207.5212\n",
      "Epoch 17/50\n",
      "721/721 [==============================] - 0s 32us/step - loss: 195.3314\n",
      "Epoch 18/50\n",
      "721/721 [==============================] - 0s 29us/step - loss: 186.8565\n",
      "Epoch 19/50\n",
      "721/721 [==============================] - 0s 32us/step - loss: 180.3127\n",
      "Epoch 20/50\n",
      "721/721 [==============================] - 0s 32us/step - loss: 175.1526\n",
      "Epoch 21/50\n",
      "721/721 [==============================] - 0s 39us/step - loss: 170.8906\n",
      "Epoch 22/50\n",
      "721/721 [==============================] - 0s 42us/step - loss: 167.4735\n",
      "Epoch 23/50\n",
      "721/721 [==============================] - 0s 32us/step - loss: 164.2526\n",
      "Epoch 24/50\n",
      "721/721 [==============================] - 0s 35us/step - loss: 161.4508\n",
      "Epoch 25/50\n",
      "721/721 [==============================] - 0s 33us/step - loss: 158.8502\n",
      "Epoch 26/50\n",
      "721/721 [==============================] - 0s 42us/step - loss: 156.5384\n",
      "Epoch 27/50\n",
      "721/721 [==============================] - 0s 36us/step - loss: 154.3407\n",
      "Epoch 28/50\n",
      "721/721 [==============================] - 0s 26us/step - loss: 152.4201\n",
      "Epoch 29/50\n",
      "721/721 [==============================] - 0s 39us/step - loss: 150.5059\n",
      "Epoch 30/50\n",
      "721/721 [==============================] - 0s 33us/step - loss: 148.9757\n",
      "Epoch 31/50\n",
      "721/721 [==============================] - ETA: 0s - loss: 106.647 - 0s 31us/step - loss: 147.5803\n",
      "Epoch 32/50\n",
      "721/721 [==============================] - 0s 22us/step - loss: 146.5333\n",
      "Epoch 33/50\n",
      "721/721 [==============================] - 0s 28us/step - loss: 144.7944\n",
      "Epoch 34/50\n",
      "721/721 [==============================] - 0s 32us/step - loss: 143.8503\n",
      "Epoch 35/50\n",
      "721/721 [==============================] - 0s 36us/step - loss: 142.4001\n",
      "Epoch 36/50\n",
      "721/721 [==============================] - 0s 35us/step - loss: 141.3185\n",
      "Epoch 37/50\n",
      "721/721 [==============================] - 0s 30us/step - loss: 140.5111\n",
      "Epoch 38/50\n",
      "721/721 [==============================] - 0s 40us/step - loss: 139.2789\n",
      "Epoch 39/50\n",
      "721/721 [==============================] - 0s 32us/step - loss: 138.3027\n",
      "Epoch 40/50\n",
      "721/721 [==============================] - 0s 32us/step - loss: 137.5672\n",
      "Epoch 41/50\n",
      "721/721 [==============================] - 0s 31us/step - loss: 136.7856\n",
      "Epoch 42/50\n",
      "721/721 [==============================] - 0s 36us/step - loss: 135.9902\n",
      "Epoch 43/50\n",
      "721/721 [==============================] - 0s 32us/step - loss: 134.9311\n",
      "Epoch 44/50\n",
      "721/721 [==============================] - 0s 31us/step - loss: 134.3793\n",
      "Epoch 45/50\n",
      "721/721 [==============================] - 0s 32us/step - loss: 133.6648\n",
      "Epoch 46/50\n",
      "721/721 [==============================] - 0s 28us/step - loss: 133.0945\n",
      "Epoch 47/50\n",
      "721/721 [==============================] - 0s 33us/step - loss: 131.8132\n",
      "Epoch 48/50\n",
      "721/721 [==============================] - 0s 31us/step - loss: 131.6402\n",
      "Epoch 49/50\n",
      "721/721 [==============================] - 0s 39us/step - loss: 130.6559\n",
      "Epoch 50/50\n",
      "721/721 [==============================] - 0s 31us/step - loss: 130.1142\n"
     ]
    },
    {
     "data": {
      "text/plain": [
       "<keras.callbacks.callbacks.History at 0x22f293e95f8>"
      ]
     },
     "execution_count": 107,
     "metadata": {},
     "output_type": "execute_result"
    }
   ],
   "source": [
    "model.fit(X_train_norm, y_train, epochs=50, verbose=1)"
   ]
  },
  {
   "cell_type": "markdown",
   "metadata": {},
   "source": [
    "#### *Test* the model"
   ]
  },
  {
   "cell_type": "code",
   "execution_count": 108,
   "metadata": {},
   "outputs": [
    {
     "name": "stdout",
     "output_type": "stream",
     "text": [
      "309/309 [==============================] - 0s 45us/step\n",
      "140.34336499951803\n"
     ]
    }
   ],
   "source": [
    "loss = model.evaluate(X_test_norm, y_test)\n",
    "print(loss)"
   ]
  },
  {
   "cell_type": "code",
   "execution_count": 109,
   "metadata": {},
   "outputs": [],
   "source": [
    "y_pred = model.predict(X_test_norm)"
   ]
  },
  {
   "cell_type": "markdown",
   "metadata": {},
   "source": [
    "#### Compute *Mean Squared Error*"
   ]
  },
  {
   "cell_type": "code",
   "execution_count": 110,
   "metadata": {},
   "outputs": [
    {
     "name": "stdout",
     "output_type": "stream",
     "text": [
      "140.34336752643915\n"
     ]
    }
   ],
   "source": [
    "mse = mean_squared_error(y_test, y_pred)\n",
    "print(mse)"
   ]
  },
  {
   "cell_type": "markdown",
   "metadata": {},
   "source": [
    "#### *50* mean squared errors"
   ]
  },
  {
   "cell_type": "code",
   "execution_count": 111,
   "metadata": {},
   "outputs": [
    {
     "name": "stdout",
     "output_type": "stream",
     "text": [
      "MSE 1: 108.3339368949816\n",
      "MSE 2: 119.47230445837126\n",
      "MSE 3: 103.06900654024291\n",
      "MSE 4: 102.02363300014854\n",
      "MSE 5: 49.84163405285684\n",
      "MSE 6: 42.689383954291976\n",
      "MSE 7: 50.75440423465469\n",
      "MSE 8: 40.9958013269122\n",
      "MSE 9: 39.51263657356929\n",
      "MSE 10: 40.01421743843548\n",
      "MSE 11: 35.794965558839074\n",
      "MSE 12: 33.79475678749455\n",
      "MSE 13: 41.84878355168216\n",
      "MSE 14: 41.279495449127886\n",
      "MSE 15: 32.275919300067\n",
      "MSE 16: 27.396210438996842\n",
      "MSE 17: 34.456050304918996\n",
      "MSE 18: 31.689784695029644\n",
      "MSE 19: 28.529930873981957\n",
      "MSE 20: 33.36332752017913\n",
      "MSE 21: 30.458606861941636\n",
      "MSE 22: 31.06087584017164\n",
      "MSE 23: 24.629476429960874\n",
      "MSE 24: 26.309867278657684\n",
      "MSE 25: 33.23320032632081\n",
      "MSE 26: 30.282425506986847\n",
      "MSE 27: 24.25221200591152\n",
      "MSE 28: 28.8939610669528\n",
      "MSE 29: 30.13639187118382\n",
      "MSE 30: 28.231588882150003\n",
      "MSE 31: 24.664885431431642\n",
      "MSE 32: 23.4186625187451\n",
      "MSE 33: 22.664435500851727\n",
      "MSE 34: 27.089128648578928\n",
      "MSE 35: 27.45562665130714\n",
      "MSE 36: 33.30593000492232\n",
      "MSE 37: 23.507107549500695\n",
      "MSE 38: 27.597612806894247\n",
      "MSE 39: 26.652400772934207\n",
      "MSE 40: 21.66355999079337\n",
      "MSE 41: 28.743020968143995\n",
      "MSE 42: 23.488422936991967\n",
      "MSE 43: 25.393616160914352\n",
      "MSE 44: 30.68856657207205\n",
      "MSE 45: 26.39765747465362\n",
      "MSE 46: 27.169090666045648\n",
      "MSE 47: 25.21272208698359\n",
      "MSE 48: 28.5949825854749\n",
      "MSE 49: 28.341461811250852\n",
      "MSE 50: 24.487619893836357\n",
      "\n",
      "\n",
      "Below is the mean and standard deviation of 50 mean squared errors without normalized data. Total number of epochs for each training is: 50\n",
      "\n",
      "Mean: 37.02322556529744\n",
      "Standard Deviation: 22.081262027224998\n"
     ]
    }
   ],
   "source": [
    "total_mean_squared_errors = 50\n",
    "epochs = 50\n",
    "mean_squared_errors = []\n",
    "for i in range(0, total_mean_squared_errors):\n",
    "    X_train_norm, X_test_norm, y_train, y_test = train_test_split(X_norm, y, test_size=0.3, random_state=i)\n",
    "    model.fit(X_train_norm, y_train, epochs=epochs, verbose=0)\n",
    "    MSE = model.evaluate(X_test_norm, y_test, verbose=0)\n",
    "    print(\"MSE \"+str(i+1)+\": \"+str(MSE))\n",
    "    y_pred = model.predict(X_test_norm)\n",
    "    mean_square_error = mean_squared_error(y_test, y_pred)\n",
    "    mean_squared_errors.append(mean_square_error)\n",
    "\n",
    "mean_squared_errors = np.array(mean_squared_errors)\n",
    "mean = np.mean(mean_squared_errors)\n",
    "standard_deviation = np.std(mean_squared_errors)\n",
    "\n",
    "print('\\n')\n",
    "print(\"Below is the mean and standard deviation of \" +str(total_mean_squared_errors) + \" mean squared errors without normalized data. Total number of epochs for each training is: \" +str(epochs) + \"\\n\")\n",
    "print(\"Mean: \"+str(mean))\n",
    "print(\"Standard Deviation: \"+str(standard_deviation))"
   ]
  },
  {
   "cell_type": "markdown",
   "metadata": {},
   "source": [
    "#### Comparision of the mean of the mean squared errors between step *B* & step *D*"
   ]
  },
  {
   "cell_type": "code",
   "execution_count": 112,
   "metadata": {},
   "outputs": [
    {
     "name": "stdout",
     "output_type": "stream",
     "text": [
      "Step B : mean of the MSEs = 38.59\n",
      "Step D : mean of the MSEs = 37.02\n"
     ]
    }
   ],
   "source": [
    "print(\"Step B : mean of the MSEs = 38.59\" \"\\n\" \"Step D : mean of the MSEs = 37.02\")"
   ]
  },
  {
   "cell_type": "markdown",
   "metadata": {},
   "source": [
    "#### Comment\n",
    "mean of the MSEs slightly decreased after adding two additional hidden layers. for this case increasing hidden layers would not yield to a better model"
   ]
  }
 ],
 "metadata": {
  "kernelspec": {
   "display_name": "Python 3",
   "language": "python",
   "name": "python3"
  },
  "language_info": {
   "codemirror_mode": {
    "name": "ipython",
    "version": 3
   },
   "file_extension": ".py",
   "mimetype": "text/x-python",
   "name": "python",
   "nbconvert_exporter": "python",
   "pygments_lexer": "ipython3",
   "version": "3.7.6"
  }
 },
 "nbformat": 4,
 "nbformat_minor": 4
}
